{
 "cells": [
  {
   "cell_type": "code",
   "execution_count": 12,
   "metadata": {},
   "outputs": [],
   "source": [
    "import pandas as pd"
   ]
  },
  {
   "cell_type": "code",
   "execution_count": 13,
   "metadata": {},
   "outputs": [],
   "source": [
    "df = pd.read_excel(\"../../Corpus/Morpologies/Dataset for MAnalyzer/FullSet/MA Dataset Person Names.xlsx\")"
   ]
  },
  {
   "cell_type": "code",
   "execution_count": 14,
   "metadata": {},
   "outputs": [],
   "source": [
    "dataFrame = df"
   ]
  },
  {
   "cell_type": "code",
   "execution_count": 15,
   "metadata": {},
   "outputs": [
    {
     "data": {
      "text/html": [
       "<div>\n",
       "<style scoped>\n",
       "    .dataframe tbody tr th:only-of-type {\n",
       "        vertical-align: middle;\n",
       "    }\n",
       "\n",
       "    .dataframe tbody tr th {\n",
       "        vertical-align: top;\n",
       "    }\n",
       "\n",
       "    .dataframe thead th {\n",
       "        text-align: right;\n",
       "    }\n",
       "</style>\n",
       "<table border=\"1\" class=\"dataframe\">\n",
       "  <thead>\n",
       "    <tr style=\"text-align: right;\">\n",
       "      <th></th>\n",
       "      <th>Sinhala</th>\n",
       "      <th>Tamil</th>\n",
       "    </tr>\n",
       "  </thead>\n",
       "  <tbody>\n",
       "    <tr>\n",
       "      <th>0</th>\n",
       "      <td>සම්මුන්කුඩ්ඩි</td>\n",
       "      <td>சம்மூன்குட்டி</td>\n",
       "    </tr>\n",
       "    <tr>\n",
       "      <th>1</th>\n",
       "      <td>කුලන්තයුම්මා</td>\n",
       "      <td>குழந்தையும்மா</td>\n",
       "    </tr>\n",
       "    <tr>\n",
       "      <th>2</th>\n",
       "      <td>ඉලන්කෝ</td>\n",
       "      <td>இளங்கோ</td>\n",
       "    </tr>\n",
       "    <tr>\n",
       "      <th>3</th>\n",
       "      <td>තනුරාජ්</td>\n",
       "      <td>தனுராஜ்</td>\n",
       "    </tr>\n",
       "    <tr>\n",
       "      <th>4</th>\n",
       "      <td>කතිරාමන්</td>\n",
       "      <td>கதிராமன்</td>\n",
       "    </tr>\n",
       "  </tbody>\n",
       "</table>\n",
       "</div>"
      ],
      "text/plain": [
       "         Sinhala          Tamil\n",
       "0  සම්මුන්කුඩ්ඩි  சம்மூன்குட்டி\n",
       "1   කුලන්තයුම්මා  குழந்தையும்மா\n",
       "2         ඉලන්කෝ         இளங்கோ\n",
       "3        තනුරාජ්        தனுராஜ்\n",
       "4       කතිරාමන්       கதிராமன்"
      ]
     },
     "execution_count": 15,
     "metadata": {},
     "output_type": "execute_result"
    }
   ],
   "source": [
    "dataFrame.head(5)"
   ]
  },
  {
   "cell_type": "code",
   "execution_count": 16,
   "metadata": {},
   "outputs": [
    {
     "data": {
      "text/plain": [
       "92096"
      ]
     },
     "execution_count": 16,
     "metadata": {},
     "output_type": "execute_result"
    }
   ],
   "source": [
    "len(dataFrame)"
   ]
  },
  {
   "cell_type": "code",
   "execution_count": 17,
   "metadata": {},
   "outputs": [
    {
     "data": {
      "text/html": [
       "<div>\n",
       "<style scoped>\n",
       "    .dataframe tbody tr th:only-of-type {\n",
       "        vertical-align: middle;\n",
       "    }\n",
       "\n",
       "    .dataframe tbody tr th {\n",
       "        vertical-align: top;\n",
       "    }\n",
       "\n",
       "    .dataframe thead th {\n",
       "        text-align: right;\n",
       "    }\n",
       "</style>\n",
       "<table border=\"1\" class=\"dataframe\">\n",
       "  <thead>\n",
       "    <tr style=\"text-align: right;\">\n",
       "      <th></th>\n",
       "      <th>Sinhala</th>\n",
       "      <th>Tamil</th>\n",
       "    </tr>\n",
       "  </thead>\n",
       "  <tbody>\n",
       "    <tr>\n",
       "      <th>92091</th>\n",
       "      <td>බතියගේ</td>\n",
       "      <td>பதியகே</td>\n",
       "    </tr>\n",
       "    <tr>\n",
       "      <th>92092</th>\n",
       "      <td>ප්‍රමෝධා</td>\n",
       "      <td>பிரமோதா</td>\n",
       "    </tr>\n",
       "    <tr>\n",
       "      <th>92093</th>\n",
       "      <td>දිල්ශාන්ත</td>\n",
       "      <td>தில்ஸாந்த</td>\n",
       "    </tr>\n",
       "    <tr>\n",
       "      <th>92094</th>\n",
       "      <td>හටන්</td>\n",
       "      <td>ஹட்டன்</td>\n",
       "    </tr>\n",
       "    <tr>\n",
       "      <th>92095</th>\n",
       "      <td>සාරා ංගී</td>\n",
       "      <td>சாரங்கி</td>\n",
       "    </tr>\n",
       "  </tbody>\n",
       "</table>\n",
       "</div>"
      ],
      "text/plain": [
       "         Sinhala      Tamil\n",
       "92091     බතියගේ     பதியகே\n",
       "92092   ප්‍රමෝධා    பிரமோதா\n",
       "92093  දිල්ශාන්ත  தில்ஸாந்த\n",
       "92094       හටන්     ஹட்டன்\n",
       "92095   සාරා ංගී    சாரங்கி"
      ]
     },
     "execution_count": 17,
     "metadata": {},
     "output_type": "execute_result"
    }
   ],
   "source": [
    "dataFrame.tail(5)"
   ]
  },
  {
   "cell_type": "code",
   "execution_count": 18,
   "metadata": {},
   "outputs": [],
   "source": [
    "dataFrame.dropna(subset=['Sinhala'], inplace=True)\n",
    "dataFrame.dropna(subset=['Tamil'], inplace=True)"
   ]
  },
  {
   "cell_type": "code",
   "execution_count": 19,
   "metadata": {},
   "outputs": [],
   "source": [
    "lastLetter = ['்', 'ா', 'ி', 'ீ', 'ு', 'ூ', 'ெ', 'ே', 'ை', 'ொ', 'ோ', 'ௌ']"
   ]
  },
  {
   "cell_type": "code",
   "execution_count": 20,
   "metadata": {},
   "outputs": [],
   "source": [
    "def lastCharacterDetails(namedEntity):\n",
    "    if(namedEntity[-1] in lastLetter):\n",
    "        namedEntity = namedEntity[:-1]\n",
    "    else:\n",
    "        namedEntity = namedEntity\n",
    "    return namedEntity"
   ]
  },
  {
   "cell_type": "code",
   "execution_count": 21,
   "metadata": {},
   "outputs": [],
   "source": [
    "def addMorpologyTamil(rootNamedEntity, tag):\n",
    "    namedEntity = ''\n",
    "    if(tag==1):     #################  ගේ\n",
    "        if(rootNamedEntity[-1]=='்'):\n",
    "            namedEntity = rootNamedEntity[:-1] + 'ின்'\n",
    "        elif(rootNamedEntity[-1]=='ி' or rootNamedEntity[-1]=='ை'):\n",
    "            namedEntity = rootNamedEntity + 'யின்'\n",
    "        else:\n",
    "            namedEntity = (rootNamedEntity) + 'வின்' \n",
    "    elif(tag==2):     #################  ගෙන්\n",
    "        if(rootNamedEntity[-1]=='்'):\n",
    "            namedEntity = rootNamedEntity[:-1] + 'ிடமிருந்து'\n",
    "        elif(rootNamedEntity[-1]=='ி' or rootNamedEntity[-1]=='ை'):\n",
    "            namedEntity = rootNamedEntity + 'யிடமிருந்து'\n",
    "        else:\n",
    "            namedEntity = (rootNamedEntity) + 'விடமிருந்து' \n",
    "#    elif(tag==3):     #################  සිට\n",
    "#        if(rootNamedEntity[-1]=='ி' or rootNamedEntity[-1]=='ை'):\n",
    "#            namedEntity = rootNamedEntity + 'யிலிருந்து'\n",
    "#        else:\n",
    "#            namedEntity = (rootNamedEntity) + 'ிலிருந்து' \n",
    "    elif(tag==4):     #################  ගේ\n",
    "        if(rootNamedEntity[-1]=='்'):\n",
    "            namedEntity = rootNamedEntity[:-1] + 'ினது'\n",
    "        if(rootNamedEntity[-1]=='ி' or rootNamedEntity[-1]=='ை'):\n",
    "            namedEntity = rootNamedEntity + 'யினது'\n",
    "        elif(rootNamedEntity[-1] == 'ா'):\n",
    "            namedEntity = (rootNamedEntity) + 'வினது'\n",
    "        else:\n",
    "            namedEntity = rootNamedEntity + 'வினது'\n",
    "    elif(tag==5):     #################  ළග\n",
    "        if(rootNamedEntity[-1]=='்'):\n",
    "            namedEntity = rootNamedEntity[:-1] + 'ிடம்'\n",
    "        if(rootNamedEntity[-1]=='ி' or rootNamedEntity[-1]=='ை'):\n",
    "            namedEntity = rootNamedEntity + 'யிடம்'\n",
    "        else:\n",
    "            namedEntity = (rootNamedEntity) + 'விடம்' \n",
    "#    elif(tag==6):     #################  !\n",
    " #       if(rootNamedEntity[-1]=='ி' or rootNamedEntity[-1]=='ை'):\n",
    "  #          namedEntity = rootNamedEntity + 'யே'\n",
    "   #     else:\n",
    "    #        namedEntity = (rootNamedEntity) + 'ே' \n",
    "    elif(tag==7):     #################  ද!\n",
    "        if(rootNamedEntity[-1]=='்'):\n",
    "            namedEntity = rootNamedEntity[:-1] + 'ோ'\n",
    "        if(rootNamedEntity[-1]=='ி' or rootNamedEntity[-1]=='ை'):\n",
    "            namedEntity = rootNamedEntity + 'யோ'\n",
    "        else:\n",
    "            namedEntity = (rootNamedEntity) + 'வோ' \n",
    "    elif(tag==8):     #################  විසින්\n",
    "        if(rootNamedEntity[-1]=='்'):\n",
    "            namedEntity = rootNamedEntity[:-1] + 'ால்'\n",
    "        if(rootNamedEntity[-1]=='ி' or rootNamedEntity[-1]=='ை'):\n",
    "            namedEntity = rootNamedEntity + 'யால்'\n",
    "        else:\n",
    "            namedEntity = (rootNamedEntity) + 'வால்' \n",
    "    elif(tag==9):     #################  සමග\n",
    "        if(rootNamedEntity[-1]=='்'):\n",
    "            namedEntity = rootNamedEntity[:-1] + 'ுடன்'\n",
    "        if(rootNamedEntity[-1]=='ி' or rootNamedEntity[-1]=='ை'):\n",
    "            namedEntity = rootNamedEntity + 'யுடன்'\n",
    "        else:\n",
    "            namedEntity = (rootNamedEntity) + 'வுடன்' \n",
    "    elif(tag==10):     #################  සමග\n",
    "        if(rootNamedEntity[-1]=='்'):\n",
    "            namedEntity = rootNamedEntity[:-1] + 'ோடு'\n",
    "        if(rootNamedEntity[-1]=='ி' or rootNamedEntity[-1]=='ை'):\n",
    "            namedEntity = rootNamedEntity + 'யோடு'\n",
    "        else:\n",
    "            namedEntity = (rootNamedEntity) + 'வோடு' \n",
    "    elif(tag==11):     #################  ව\n",
    "        if(rootNamedEntity[-1]=='்'):\n",
    "            namedEntity = rootNamedEntity[:-1] + 'ை'\n",
    "        if(rootNamedEntity[-1]=='ி' or rootNamedEntity[-1]=='ை'):\n",
    "            namedEntity = rootNamedEntity + 'யை'\n",
    "        else:\n",
    "            namedEntity = (rootNamedEntity) + 'வை'\n",
    "    elif(tag==12):     #################  ට\n",
    "        if(rootNamedEntity[-1]=='்'):\n",
    "            namedEntity = rootNamedEntity[:-1] + 'ுக்கு'\n",
    "        if(rootNamedEntity[-1]=='ி' or rootNamedEntity[-1]=='ை'):\n",
    "            namedEntity = rootNamedEntity + 'க்கு'\n",
    "        else:\n",
    "            namedEntity = (rootNamedEntity) + 'வுக்கு'\n",
    "    elif(tag==20):     #################  \n",
    "        namedEntity = rootNamedEntity \n",
    " #   else:\n",
    "  #      namedEntity = rootNamedEntity\n",
    "    return namedEntity"
   ]
  },
  {
   "cell_type": "code",
   "execution_count": 22,
   "metadata": {},
   "outputs": [],
   "source": [
    "def addMorpologySinhala(rootNamedEntity, tag):\n",
    "    namedEntity = ''\n",
    "    if(tag==1):\n",
    "        namedEntity = rootNamedEntity + 'ගේ'\n",
    "    elif(tag==2):\n",
    "        namedEntity = rootNamedEntity + 'ගෙන්'\n",
    "#    elif(tag==3):\n",
    "#        namedEntity = rootNamedEntity + ' සිට'\n",
    "    elif(tag==4):\n",
    "        namedEntity = rootNamedEntity + 'ගේ'\n",
    "    elif(tag==5):\n",
    "        namedEntity = rootNamedEntity + ' ළග'\n",
    "#    elif(tag==6):\n",
    " #       namedEntity = rootNamedEntity + '!'\n",
    "    elif(tag==7):\n",
    "        namedEntity = rootNamedEntity + ' ද!'\n",
    "    elif(tag==8):\n",
    "        namedEntity = rootNamedEntity + ' විසින්'\n",
    "    elif(tag==9):\n",
    "        namedEntity = rootNamedEntity + ' සමග'\n",
    "    elif(tag==10):\n",
    "        namedEntity = rootNamedEntity + ' සමග'\n",
    "    elif(tag==11):\n",
    "        namedEntity = rootNamedEntity + 'ව'\n",
    "    elif(tag==12):\n",
    "        namedEntity = rootNamedEntity + 'ට'\n",
    "    elif(tag==20):\n",
    "        namedEntity = rootNamedEntity\n",
    "  #  else:\n",
    "   #     namedEntity = rootNamedEntity\n",
    "    return namedEntity"
   ]
  },
  {
   "cell_type": "code",
   "execution_count": 23,
   "metadata": {},
   "outputs": [],
   "source": [
    "sinhalaVariations = []\n",
    "tamilVariations = []"
   ]
  },
  {
   "cell_type": "code",
   "execution_count": 24,
   "metadata": {},
   "outputs": [],
   "source": [
    "for index, raw in dataFrame.iterrows():\n",
    "    sinhalaBuffer = [raw['Sinhala']]\n",
    "    tamilBuffer = [raw['Tamil']]\n",
    "    mixedBuffer = []\n",
    "    for tag in range(1, 13):\n",
    "        if(tag == 3 or tag == 6):\n",
    "            continue\n",
    "        sinhalaMorpology = addMorpologySinhala(raw['Sinhala'], tag)\n",
    "        tamilMorpology = addMorpologyTamil(raw['Tamil'], tag)\n",
    "   #     mixedBuffer.append(sinhalaMorpology)\n",
    "    #    mixedBuffer.append(tamilMorpology)\n",
    "        sinhalaBuffer.append(sinhalaMorpology)\n",
    "        tamilBuffer.append(tamilMorpology)\n",
    "    #print(sinhalaBuffer)\n",
    "    #print(tamilBuffer)\n",
    " #   mixedVariations\n",
    "    sinhalaVariations.extend(sinhalaBuffer)\n",
    "    tamilVariations.extend(tamilBuffer)"
   ]
  },
  {
   "cell_type": "code",
   "execution_count": 26,
   "metadata": {},
   "outputs": [
    {
     "name": "stdout",
     "output_type": "stream",
     "text": [
      "1013045\n",
      "1013045\n"
     ]
    }
   ],
   "source": [
    "print(len(sinhalaVariations))\n",
    "print(len(tamilVariations))"
   ]
  },
  {
   "cell_type": "code",
   "execution_count": 27,
   "metadata": {},
   "outputs": [],
   "source": [
    "sinhalaSeries = pd.Series(sinhalaVariations, name=\"Sinhala\")\n",
    "tamilSeries = pd.Series(tamilVariations, name=\"Tamil\")"
   ]
  },
  {
   "cell_type": "code",
   "execution_count": 28,
   "metadata": {},
   "outputs": [],
   "source": [
    "data = pd.DataFrame({'Sinhala':sinhalaSeries, 'Tamil':tamilSeries})"
   ]
  },
  {
   "cell_type": "code",
   "execution_count": 29,
   "metadata": {},
   "outputs": [
    {
     "data": {
      "text/html": [
       "<div>\n",
       "<style scoped>\n",
       "    .dataframe tbody tr th:only-of-type {\n",
       "        vertical-align: middle;\n",
       "    }\n",
       "\n",
       "    .dataframe tbody tr th {\n",
       "        vertical-align: top;\n",
       "    }\n",
       "\n",
       "    .dataframe thead th {\n",
       "        text-align: right;\n",
       "    }\n",
       "</style>\n",
       "<table border=\"1\" class=\"dataframe\">\n",
       "  <thead>\n",
       "    <tr style=\"text-align: right;\">\n",
       "      <th></th>\n",
       "      <th>Sinhala</th>\n",
       "      <th>Tamil</th>\n",
       "    </tr>\n",
       "  </thead>\n",
       "  <tbody>\n",
       "    <tr>\n",
       "      <th>0</th>\n",
       "      <td>සම්මුන්කුඩ්ඩි</td>\n",
       "      <td>சம்மூன்குட்டி</td>\n",
       "    </tr>\n",
       "    <tr>\n",
       "      <th>1</th>\n",
       "      <td>සම්මුන්කුඩ්ඩිගේ</td>\n",
       "      <td>சம்மூன்குட்டியின்</td>\n",
       "    </tr>\n",
       "    <tr>\n",
       "      <th>2</th>\n",
       "      <td>සම්මුන්කුඩ්ඩිගෙන්</td>\n",
       "      <td>சம்மூன்குட்டியிடமிருந்து</td>\n",
       "    </tr>\n",
       "    <tr>\n",
       "      <th>3</th>\n",
       "      <td>සම්මුන්කුඩ්ඩිගේ</td>\n",
       "      <td>சம்மூன்குட்டியினது</td>\n",
       "    </tr>\n",
       "    <tr>\n",
       "      <th>4</th>\n",
       "      <td>සම්මුන්කුඩ්ඩි ළග</td>\n",
       "      <td>சம்மூன்குட்டியிடம்</td>\n",
       "    </tr>\n",
       "  </tbody>\n",
       "</table>\n",
       "</div>"
      ],
      "text/plain": [
       "             Sinhala                     Tamil\n",
       "0      සම්මුන්කුඩ්ඩි             சம்மூன்குட்டி\n",
       "1    සම්මුන්කුඩ්ඩිගේ         சம்மூன்குட்டியின்\n",
       "2  සම්මුන්කුඩ්ඩිගෙන්  சம்மூன்குட்டியிடமிருந்து\n",
       "3    සම්මුන්කුඩ්ඩිගේ        சம்மூன்குட்டியினது\n",
       "4   සම්මුන්කුඩ්ඩි ළග        சம்மூன்குட்டியிடம்"
      ]
     },
     "execution_count": 29,
     "metadata": {},
     "output_type": "execute_result"
    }
   ],
   "source": [
    "data.head()"
   ]
  },
  {
   "cell_type": "code",
   "execution_count": 30,
   "metadata": {},
   "outputs": [],
   "source": [
    "export_excel = data.to_excel('../../Corpus/Morpologies/Morpologies_All.xlsx', index = None, header=True)"
   ]
  },
  {
   "cell_type": "code",
   "execution_count": null,
   "metadata": {},
   "outputs": [],
   "source": []
  }
 ],
 "metadata": {
  "kernelspec": {
   "display_name": "Python 3",
   "language": "python",
   "name": "python3"
  },
  "language_info": {
   "codemirror_mode": {
    "name": "ipython",
    "version": 3
   },
   "file_extension": ".py",
   "mimetype": "text/x-python",
   "name": "python",
   "nbconvert_exporter": "python",
   "pygments_lexer": "ipython3",
   "version": "3.7.1"
  }
 },
 "nbformat": 4,
 "nbformat_minor": 2
}
