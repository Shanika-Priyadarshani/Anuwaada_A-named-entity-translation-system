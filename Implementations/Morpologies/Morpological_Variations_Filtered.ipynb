{
 "cells": [
  {
   "cell_type": "code",
   "execution_count": 11,
   "metadata": {},
   "outputs": [],
   "source": [
    "import pandas as pd"
   ]
  },
  {
   "cell_type": "code",
   "execution_count": 12,
   "metadata": {},
   "outputs": [],
   "source": [
    "df = pd.read_excel(\"../Corpus/Morpologies/Dataset for MAnalyzer/Morpologies_filtered_new.xlsx\")"
   ]
  },
  {
   "cell_type": "code",
   "execution_count": 13,
   "metadata": {},
   "outputs": [],
   "source": [
    "dataFrame = df"
   ]
  },
  {
   "cell_type": "code",
   "execution_count": 14,
   "metadata": {},
   "outputs": [
    {
     "data": {
      "text/html": [
       "<div>\n",
       "<style scoped>\n",
       "    .dataframe tbody tr th:only-of-type {\n",
       "        vertical-align: middle;\n",
       "    }\n",
       "\n",
       "    .dataframe tbody tr th {\n",
       "        vertical-align: top;\n",
       "    }\n",
       "\n",
       "    .dataframe thead th {\n",
       "        text-align: right;\n",
       "    }\n",
       "</style>\n",
       "<table border=\"1\" class=\"dataframe\">\n",
       "  <thead>\n",
       "    <tr style=\"text-align: right;\">\n",
       "      <th></th>\n",
       "      <th>Sinhala</th>\n",
       "      <th>Tamil</th>\n",
       "    </tr>\n",
       "  </thead>\n",
       "  <tbody>\n",
       "    <tr>\n",
       "      <th>0</th>\n",
       "      <td>දසනායක</td>\n",
       "      <td>தசநாயக</td>\n",
       "    </tr>\n",
       "    <tr>\n",
       "      <th>1</th>\n",
       "      <td>ලක්ෂිකා</td>\n",
       "      <td>லக்ஷிகா</td>\n",
       "    </tr>\n",
       "    <tr>\n",
       "      <th>2</th>\n",
       "      <td>දිල්කි</td>\n",
       "      <td>தில்கி</td>\n",
       "    </tr>\n",
       "    <tr>\n",
       "      <th>3</th>\n",
       "      <td>සක්කී</td>\n",
       "      <td>சக்கி</td>\n",
       "    </tr>\n",
       "    <tr>\n",
       "      <th>4</th>\n",
       "      <td>වන්නකු</td>\n",
       "      <td>வன்னகு</td>\n",
       "    </tr>\n",
       "  </tbody>\n",
       "</table>\n",
       "</div>"
      ],
      "text/plain": [
       "   Sinhala    Tamil\n",
       "0   දසනායක   தசநாயக\n",
       "1  ලක්ෂිකා  லக்ஷிகா\n",
       "2   දිල්කි   தில்கி\n",
       "3    සක්කී    சக்கி\n",
       "4   වන්නකු   வன்னகு"
      ]
     },
     "execution_count": 14,
     "metadata": {},
     "output_type": "execute_result"
    }
   ],
   "source": [
    "dataFrame.head(5)"
   ]
  },
  {
   "cell_type": "code",
   "execution_count": 15,
   "metadata": {},
   "outputs": [],
   "source": [
    "dataFrame.dropna(subset=['Sinhala'], inplace=True)\n",
    "dataFrame.dropna(subset=['Tamil'], inplace=True)"
   ]
  },
  {
   "cell_type": "code",
   "execution_count": 16,
   "metadata": {
    "scrolled": true
   },
   "outputs": [],
   "source": [
    "dataF = dataFrame"
   ]
  },
  {
   "cell_type": "code",
   "execution_count": 13,
   "metadata": {},
   "outputs": [],
   "source": [
    "selected_si = []\n",
    "selected_ta = []\n",
    "for index, raw in dataF.iterrows():\n",
    "    #if(len(raw['Sinhala'].strip())>1 and len(raw['Tamil'].strip())>1):\n",
    "    raw_si = raw['Sinhala'].strip().split()\n",
    "    raw_ta = raw['Tamil'].strip().split()\n",
    "   # print(raw_si)\n",
    "   # print(raw_ta)\n",
    "    if(len(raw_si) == len(raw_ta)):\n",
    "       # if(len(raw_si[-1])>1 and len(raw_ta[-1])>1):\n",
    "        for x in range(len(raw_si)-1, 0, -1):\n",
    "           # print(x)\n",
    "            if (len(raw_si[x]) > 5 and len(raw_ta[x]) > 5):\n",
    "                #dataF.drop(raw, axis = 1, inplace = True)\n",
    "                selected_si.append(raw_si[x])\n",
    "                selected_ta.append(raw_ta[x])\n",
    "                break"
   ]
  },
  {
   "cell_type": "code",
   "execution_count": 14,
   "metadata": {},
   "outputs": [],
   "source": [
    "#print(selected_si)\n",
    "#print(selected_ta)"
   ]
  },
  {
   "cell_type": "code",
   "execution_count": null,
   "metadata": {},
   "outputs": [],
   "source": []
  },
  {
   "cell_type": "code",
   "execution_count": 15,
   "metadata": {},
   "outputs": [],
   "source": [
    "si_series = pd.Series(selected_si, name=\"Sinhala\")\n",
    "ta_series = pd.Series(selected_ta, name=\"Tamil\")"
   ]
  },
  {
   "cell_type": "code",
   "execution_count": 16,
   "metadata": {},
   "outputs": [],
   "source": [
    "da = pd.DataFrame({'Sinhala':si_series, 'Tamil':ta_series})"
   ]
  },
  {
   "cell_type": "code",
   "execution_count": 17,
   "metadata": {},
   "outputs": [
    {
     "data": {
      "text/html": [
       "<div>\n",
       "<style scoped>\n",
       "    .dataframe tbody tr th:only-of-type {\n",
       "        vertical-align: middle;\n",
       "    }\n",
       "\n",
       "    .dataframe tbody tr th {\n",
       "        vertical-align: top;\n",
       "    }\n",
       "\n",
       "    .dataframe thead th {\n",
       "        text-align: right;\n",
       "    }\n",
       "</style>\n",
       "<table border=\"1\" class=\"dataframe\">\n",
       "  <thead>\n",
       "    <tr style=\"text-align: right;\">\n",
       "      <th></th>\n",
       "      <th>Sinhala</th>\n",
       "      <th>Tamil</th>\n",
       "    </tr>\n",
       "  </thead>\n",
       "  <tbody>\n",
       "    <tr>\n",
       "      <th>0</th>\n",
       "      <td>කුලන්තයුම්මා</td>\n",
       "      <td>குழந்தையும்மா</td>\n",
       "    </tr>\n",
       "    <tr>\n",
       "      <th>1</th>\n",
       "      <td>තනුරාජ්</td>\n",
       "      <td>தனுராஜ்</td>\n",
       "    </tr>\n",
       "    <tr>\n",
       "      <th>2</th>\n",
       "      <td>ඥානම්මා</td>\n",
       "      <td>ஞானம்மா</td>\n",
       "    </tr>\n",
       "    <tr>\n",
       "      <th>3</th>\n",
       "      <td>දසනායක</td>\n",
       "      <td>தசநாயக</td>\n",
       "    </tr>\n",
       "    <tr>\n",
       "      <th>4</th>\n",
       "      <td>පූර්නිමා</td>\n",
       "      <td>பூர்னிமா</td>\n",
       "    </tr>\n",
       "  </tbody>\n",
       "</table>\n",
       "</div>"
      ],
      "text/plain": [
       "        Sinhala          Tamil\n",
       "0  කුලන්තයුම්මා  குழந்தையும்மா\n",
       "1       තනුරාජ්        தனுராஜ்\n",
       "2       ඥානම්මා        ஞானம்மா\n",
       "3        දසනායක         தசநாயக\n",
       "4      පූර්නිමා       பூர்னிமா"
      ]
     },
     "execution_count": 17,
     "metadata": {},
     "output_type": "execute_result"
    }
   ],
   "source": [
    "da.head()"
   ]
  },
  {
   "cell_type": "code",
   "execution_count": null,
   "metadata": {},
   "outputs": [],
   "source": []
  },
  {
   "cell_type": "code",
   "execution_count": 30,
   "metadata": {},
   "outputs": [],
   "source": [
    "dataFrame = da"
   ]
  },
  {
   "cell_type": "code",
   "execution_count": 31,
   "metadata": {},
   "outputs": [],
   "source": [
    "def addMorpologyTamil(rootNamedEntity, tag):\n",
    "    namedEntity = ''\n",
    "    if(tag==1):     #################  ගේ\n",
    "        if(rootNamedEntity[-1]=='ி' or rootNamedEntity[-1]=='ை'):\n",
    "            namedEntity = rootNamedEntity + 'யின்'\n",
    "        else:\n",
    "            namedEntity = rootNamedEntity[:-1] + 'ின்' \n",
    "    elif(tag==2):     #################  ගෙන්\n",
    "        if(rootNamedEntity[-1]=='ி' or rootNamedEntity[-1]=='ை'):\n",
    "            namedEntity = rootNamedEntity + 'யில்'\n",
    "        else:\n",
    "            namedEntity = rootNamedEntity[:-1] + 'ில்' \n",
    "    elif(tag==3):     #################  සිට\n",
    "        if(rootNamedEntity[-1]=='ி' or rootNamedEntity[-1]=='ை'):\n",
    "            namedEntity = rootNamedEntity + 'யிலிருந்து'\n",
    "        else:\n",
    "            namedEntity = rootNamedEntity[:-1] + 'ிலிருந்து' \n",
    "    elif(tag==4):     #################  ගේ\n",
    "        if(rootNamedEntity[-1]=='ி' or rootNamedEntity[-1]=='ை'):\n",
    "            namedEntity = rootNamedEntity + 'யினது'\n",
    "        elif(rootNamedEntity[-1] == 'ா'):\n",
    "            namedEntity = rootNamedEntity[:-1] + 'வினது'\n",
    "        else:\n",
    "            namedEntity = rootNamedEntity + 'து'\n",
    "    elif(tag==5):     #################  ළග\n",
    "        if(rootNamedEntity[-1]=='ி' or rootNamedEntity[-1]=='ை'):\n",
    "            namedEntity = rootNamedEntity + 'யிடம்'\n",
    "        else:\n",
    "            namedEntity = rootNamedEntity[:-1] + 'விடம்' \n",
    "    elif(tag==6):     #################  !\n",
    "        if(rootNamedEntity[-1]=='ி' or rootNamedEntity[-1]=='ை'):\n",
    "            namedEntity = rootNamedEntity + 'யே'\n",
    "        else:\n",
    "            namedEntity = rootNamedEntity[:-1] + 'ே' \n",
    "    elif(tag==7):     #################  ද!\n",
    "        if(rootNamedEntity[-1]=='ி' or rootNamedEntity[-1]=='ை'):\n",
    "            namedEntity = rootNamedEntity + 'யோ'\n",
    "        else:\n",
    "            namedEntity = rootNamedEntity[:-1] + 'ோ' \n",
    "    elif(tag==8):     #################  විසින්\n",
    "        if(rootNamedEntity[-1]=='ி' or rootNamedEntity[-1]=='ை'):\n",
    "            namedEntity = rootNamedEntity + 'யால்'\n",
    "        else:\n",
    "            namedEntity = rootNamedEntity[:-1] + 'ால்' \n",
    "    elif(tag==9):     #################  සමග\n",
    "        if(rootNamedEntity[-1]=='ி' or rootNamedEntity[-1]=='ை'):\n",
    "            namedEntity = rootNamedEntity + 'யுடன்'\n",
    "        else:\n",
    "            namedEntity = rootNamedEntity[:-1] + 'ுடன்' \n",
    "    elif(tag==10):     #################  සමග\n",
    "        if(rootNamedEntity[-1]=='ி' or rootNamedEntity[-1]=='ை'):\n",
    "            namedEntity = rootNamedEntity + 'யோடு'\n",
    "        else:\n",
    "            namedEntity = rootNamedEntity[:-1] + 'ோடு' \n",
    "    elif(tag==11):     #################  ව\n",
    "        if(rootNamedEntity[-1]=='ி' or rootNamedEntity[-1]=='ை'):\n",
    "            namedEntity = rootNamedEntity + 'யை'\n",
    "        else:\n",
    "            namedEntity = rootNamedEntity[:-1] + 'ை'\n",
    "    elif(tag==12):     #################  ට\n",
    "        if(rootNamedEntity[-1]=='ி' or rootNamedEntity[-1]=='ை'):\n",
    "            namedEntity = rootNamedEntity + 'க்கு'\n",
    "        else:\n",
    "            namedEntity = rootNamedEntity[:-1] + 'ுக்கு'\n",
    "    elif(tag==20):     #################  \n",
    "        namedEntity = rootNamedEntity \n",
    " #   else:\n",
    "  #      namedEntity = rootNamedEntity\n",
    "    return namedEntity"
   ]
  },
  {
   "cell_type": "code",
   "execution_count": 32,
   "metadata": {},
   "outputs": [],
   "source": [
    "def addMorpologySinhala(rootNamedEntity, tag):\n",
    "    namedEntity = ''\n",
    "    if(tag==1):\n",
    "        namedEntity = rootNamedEntity + 'ගේ'\n",
    "    elif(tag==2):\n",
    "        namedEntity = rootNamedEntity + 'ගෙන්'\n",
    "    elif(tag==3):\n",
    "        namedEntity = rootNamedEntity + ' සිට'\n",
    "    elif(tag==4):\n",
    "        namedEntity = rootNamedEntity + 'ගේ'\n",
    "    elif(tag==5):\n",
    "        namedEntity = rootNamedEntity + ' ළග'\n",
    "    elif(tag==6):\n",
    "        namedEntity = rootNamedEntity + '!'\n",
    "    elif(tag==7):\n",
    "        namedEntity = rootNamedEntity + ' ද!'\n",
    "    elif(tag==8):\n",
    "        namedEntity = rootNamedEntity + ' විසින්'\n",
    "    elif(tag==9):\n",
    "        namedEntity = rootNamedEntity + ' සමග'\n",
    "    elif(tag==10):\n",
    "        namedEntity = rootNamedEntity + 'සමග'\n",
    "    elif(tag==11):\n",
    "        namedEntity = rootNamedEntity + 'ව'\n",
    "    elif(tag==12):\n",
    "        namedEntity = rootNamedEntity + 'ට'\n",
    "    elif(tag==20):\n",
    "        namedEntity = rootNamedEntity\n",
    "  #  else:\n",
    "   #     namedEntity = rootNamedEntity\n",
    "    return namedEntity"
   ]
  },
  {
   "cell_type": "code",
   "execution_count": 33,
   "metadata": {},
   "outputs": [],
   "source": [
    "lis = ['ி', 'ை', '்', 'ீ', 'ு', 'ூ', 'ெ', 'ே', 'ொ', 'ோ', 'ௌ']\n",
    "lis2 = ['க', 'ச', 'ட', 'ண', 'ந', 'த', 'ப', 'ம', 'ய', 'ர', 'ல', 'வ', 'ள', 'ற']"
   ]
  },
  {
   "cell_type": "code",
   "execution_count": 34,
   "metadata": {},
   "outputs": [],
   "source": [
    "sinhalaVariations = []\n",
    "tamilVariations = []\n",
    "\n",
    "bound = 2"
   ]
  },
  {
   "cell_type": "code",
   "execution_count": 35,
   "metadata": {},
   "outputs": [],
   "source": [
    "for i in lis:\n",
    "    count = 1\n",
    "    for index, raw in dataFrame.iterrows():\n",
    "        if(raw['Tamil'][-1] == i):\n",
    "            sinhalaBuffer = [raw['Sinhala']]\n",
    "            tamilBuffer = [raw['Tamil']]\n",
    "            mixedBuffer = []\n",
    "            for tag in range(1, 14):\n",
    "                if(tag == 13):\n",
    "                    tag = 20\n",
    "                sinhalaMorpology = addMorpologySinhala(raw['Sinhala'], tag)\n",
    "                tamilMorpology = addMorpologyTamil(raw['Tamil'], tag)\n",
    "           #     mixedBuffer.append(sinhalaMorpology)\n",
    "            #    mixedBuffer.append(tamilMorpology)\n",
    "                sinhalaBuffer.append(sinhalaMorpology)\n",
    "                tamilBuffer.append(tamilMorpology)\n",
    "            #print(sinhalaBuffer)\n",
    "            #print(tamilBuffer)\n",
    "         #   mixedVariations\n",
    "            sinhalaVariations.extend(sinhalaBuffer)\n",
    "            tamilVariations.extend(tamilBuffer)\n",
    "            count += 1\n",
    "            if(count == bound) :\n",
    "                break"
   ]
  },
  {
   "cell_type": "code",
   "execution_count": 36,
   "metadata": {},
   "outputs": [
    {
     "name": "stdout",
     "output_type": "stream",
     "text": [
      "140\n",
      "140\n"
     ]
    }
   ],
   "source": [
    "print(len(sinhalaVariations))\n",
    "print(len(tamilVariations))"
   ]
  },
  {
   "cell_type": "code",
   "execution_count": 37,
   "metadata": {},
   "outputs": [],
   "source": [
    "for i in lis2:\n",
    "    count = 1\n",
    "    for index, raw in dataFrame.iterrows():\n",
    "        try:\n",
    "            if(raw['Tamil'][-1] == i):\n",
    "               # print(raw['Tamil'])\n",
    "               # print(raw['Sinhala'])\n",
    "                sinhalaBuffer = [raw['Sinhala']]\n",
    "                tamilBuffer = [raw['Tamil']]\n",
    "                mixedBuffer = []\n",
    "                for tag in range(1, 14):\n",
    "                    if(tag == 13):\n",
    "                        tag = 20\n",
    "                    sinhalaMorpology = addMorpologySinhala(raw['Sinhala'], tag)\n",
    "                    tamilMorpology = addMorpologyTamil(raw['Tamil'], tag)\n",
    "               #     mixedBuffer.append(sinhalaMorpology)\n",
    "                #    mixedBuffer.append(tamilMorpology)\n",
    "                    sinhalaBuffer.append(sinhalaMorpology)\n",
    "                    tamilBuffer.append(tamilMorpology)\n",
    "                #print(sinhalaBuffer)\n",
    "                #print(tamilBuffer)\n",
    "             #   mixedVariations\n",
    "                sinhalaVariations.extend(sinhalaBuffer)\n",
    "                tamilVariations.extend(tamilBuffer)\n",
    "                #------------\n",
    "                count += 1\n",
    "                if(count == bound) :\n",
    "                    break\n",
    "            elif(raw['Tamil'][-2] == i):\n",
    "              #  print(raw['Tamil'])\n",
    "              #  print(raw['Sinhala'])\n",
    "                sinhalaBuffer = [raw['Sinhala']]\n",
    "                tamilBuffer = [raw['Tamil']]\n",
    "                mixedBuffer = []\n",
    "                for tag in range(1, 14):\n",
    "                    if(tag == 13):\n",
    "                        tag = 20\n",
    "                    sinhalaMorpology = addMorpologySinhala(raw['Sinhala'], tag)\n",
    "                    tamilMorpology = addMorpologyTamil(raw['Tamil'], tag)\n",
    "               #     mixedBuffer.append(sinhalaMorpology)\n",
    "                #    mixedBuffer.append(tamilMorpology)\n",
    "                    sinhalaBuffer.append(sinhalaMorpology)\n",
    "                    tamilBuffer.append(tamilMorpology)\n",
    "                #print(sinhalaBuffer)\n",
    "                #print(tamilBuffer)\n",
    "             #   mixedVariations\n",
    "                sinhalaVariations.extend(sinhalaBuffer)\n",
    "                tamilVariations.extend(tamilBuffer)\n",
    "                #------------\n",
    "                count += 1\n",
    "                if(count == bound) :\n",
    "                    break\n",
    "        except:\n",
    "            p = 1"
   ]
  },
  {
   "cell_type": "code",
   "execution_count": 38,
   "metadata": {},
   "outputs": [
    {
     "name": "stdout",
     "output_type": "stream",
     "text": [
      "336\n",
      "336\n"
     ]
    }
   ],
   "source": [
    "print(len(sinhalaVariations))\n",
    "print(len(tamilVariations))"
   ]
  },
  {
   "cell_type": "code",
   "execution_count": 39,
   "metadata": {},
   "outputs": [],
   "source": [
    "sinhalaSeries = pd.Series(sinhalaVariations, name=\"Sinhala\")\n",
    "tamilSeries = pd.Series(tamilVariations, name=\"Tamil\")"
   ]
  },
  {
   "cell_type": "code",
   "execution_count": 40,
   "metadata": {},
   "outputs": [],
   "source": [
    "data = pd.DataFrame({'Sinhala':sinhalaSeries, 'Tamil':tamilSeries})"
   ]
  },
  {
   "cell_type": "code",
   "execution_count": 41,
   "metadata": {},
   "outputs": [
    {
     "data": {
      "text/html": [
       "<div>\n",
       "<style scoped>\n",
       "    .dataframe tbody tr th:only-of-type {\n",
       "        vertical-align: middle;\n",
       "    }\n",
       "\n",
       "    .dataframe tbody tr th {\n",
       "        vertical-align: top;\n",
       "    }\n",
       "\n",
       "    .dataframe thead th {\n",
       "        text-align: right;\n",
       "    }\n",
       "</style>\n",
       "<table border=\"1\" class=\"dataframe\">\n",
       "  <thead>\n",
       "    <tr style=\"text-align: right;\">\n",
       "      <th></th>\n",
       "      <th>Sinhala</th>\n",
       "      <th>Tamil</th>\n",
       "    </tr>\n",
       "  </thead>\n",
       "  <tbody>\n",
       "    <tr>\n",
       "      <th>0</th>\n",
       "      <td>හංසිනි</td>\n",
       "      <td>ஹன்சினி</td>\n",
       "    </tr>\n",
       "    <tr>\n",
       "      <th>1</th>\n",
       "      <td>හංසිනිගේ</td>\n",
       "      <td>ஹன்சினியின்</td>\n",
       "    </tr>\n",
       "    <tr>\n",
       "      <th>2</th>\n",
       "      <td>හංසිනිගෙන්</td>\n",
       "      <td>ஹன்சினியில்</td>\n",
       "    </tr>\n",
       "    <tr>\n",
       "      <th>3</th>\n",
       "      <td>හංසිනි සිට</td>\n",
       "      <td>ஹன்சினியிலிருந்து</td>\n",
       "    </tr>\n",
       "    <tr>\n",
       "      <th>4</th>\n",
       "      <td>හංසිනිගේ</td>\n",
       "      <td>ஹன்சினியினது</td>\n",
       "    </tr>\n",
       "  </tbody>\n",
       "</table>\n",
       "</div>"
      ],
      "text/plain": [
       "      Sinhala              Tamil\n",
       "0      හංසිනි            ஹன்சினி\n",
       "1    හංසිනිගේ        ஹன்சினியின்\n",
       "2  හංසිනිගෙන්        ஹன்சினியில்\n",
       "3  හංසිනි සිට  ஹன்சினியிலிருந்து\n",
       "4    හංසිනිගේ       ஹன்சினியினது"
      ]
     },
     "execution_count": 41,
     "metadata": {},
     "output_type": "execute_result"
    }
   ],
   "source": [
    "data.head()"
   ]
  },
  {
   "cell_type": "code",
   "execution_count": 42,
   "metadata": {},
   "outputs": [],
   "source": [
    "export_excel = data.to_excel('../Corpus/Morpologies/Morpologies_filtered.xlsx', index = None, header=True)"
   ]
  },
  {
   "cell_type": "code",
   "execution_count": null,
   "metadata": {},
   "outputs": [],
   "source": []
  }
 ],
 "metadata": {
  "kernelspec": {
   "display_name": "Python 3",
   "language": "python",
   "name": "python3"
  },
  "language_info": {
   "codemirror_mode": {
    "name": "ipython",
    "version": 3
   },
   "file_extension": ".py",
   "mimetype": "text/x-python",
   "name": "python",
   "nbconvert_exporter": "python",
   "pygments_lexer": "ipython3",
   "version": "3.7.1"
  }
 },
 "nbformat": 4,
 "nbformat_minor": 2
}
