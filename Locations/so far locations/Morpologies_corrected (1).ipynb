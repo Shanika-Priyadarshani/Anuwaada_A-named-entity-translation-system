{
 "cells": [
  {
   "cell_type": "code",
   "execution_count": 1,
   "metadata": {},
   "outputs": [],
   "source": [
    "import pandas as pd"
   ]
  },
  {
   "cell_type": "code",
   "execution_count": 2,
   "metadata": {},
   "outputs": [],
   "source": [
    "df = pd.read_excel(\"location_names_cleaned_unique.xlsx\")"
   ]
  },
  {
   "cell_type": "code",
   "execution_count": 3,
   "metadata": {},
   "outputs": [],
   "source": [
    "dataFrame = df"
   ]
  },
  {
   "cell_type": "code",
   "execution_count": 4,
   "metadata": {},
   "outputs": [
    {
     "data": {
      "text/html": [
       "<div>\n",
       "<style scoped>\n",
       "    .dataframe tbody tr th:only-of-type {\n",
       "        vertical-align: middle;\n",
       "    }\n",
       "\n",
       "    .dataframe tbody tr th {\n",
       "        vertical-align: top;\n",
       "    }\n",
       "\n",
       "    .dataframe thead th {\n",
       "        text-align: right;\n",
       "    }\n",
       "</style>\n",
       "<table border=\"1\" class=\"dataframe\">\n",
       "  <thead>\n",
       "    <tr style=\"text-align: right;\">\n",
       "      <th></th>\n",
       "      <th>Sinhala</th>\n",
       "      <th>Tamil</th>\n",
       "    </tr>\n",
       "  </thead>\n",
       "  <tbody>\n",
       "    <tr>\n",
       "      <th>0</th>\n",
       "      <td>සීනෝර් නිවාස ක්‍රමය</td>\n",
       "      <td>சீநோர் வீட்டு திட்டம்</td>\n",
       "    </tr>\n",
       "    <tr>\n",
       "      <th>1</th>\n",
       "      <td>කලුවන්කෙන</td>\n",
       "      <td>களுவன்கேணி</td>\n",
       "    </tr>\n",
       "    <tr>\n",
       "      <th>2</th>\n",
       "      <td>චෙන්කලඩ්</td>\n",
       "      <td>செங்கலடி</td>\n",
       "    </tr>\n",
       "    <tr>\n",
       "      <th>3</th>\n",
       "      <td>සුනාමි නිවාස ක්‍රමය</td>\n",
       "      <td>சுனாமி வீட்டு திட்டம்</td>\n",
       "    </tr>\n",
       "    <tr>\n",
       "      <th>4</th>\n",
       "      <td>කලුවන්කෙනි</td>\n",
       "      <td>களுவன்கேணி</td>\n",
       "    </tr>\n",
       "  </tbody>\n",
       "</table>\n",
       "</div>"
      ],
      "text/plain": [
       "               Sinhala                  Tamil\n",
       "0  සීනෝර් නිවාස ක්‍රමය  சீநோர் வீட்டு திட்டம்\n",
       "1            කලුවන්කෙන             களுவன்கேணி\n",
       "2             චෙන්කලඩ්               செங்கலடி\n",
       "3  සුනාමි නිවාස ක්‍රමය  சுனாமி வீட்டு திட்டம்\n",
       "4           කලුවන්කෙනි             களுவன்கேணி"
      ]
     },
     "execution_count": 4,
     "metadata": {},
     "output_type": "execute_result"
    }
   ],
   "source": [
    "dataFrame.head(5)"
   ]
  },
  {
   "cell_type": "code",
   "execution_count": 5,
   "metadata": {},
   "outputs": [
    {
     "data": {
      "text/plain": [
       "74511"
      ]
     },
     "execution_count": 5,
     "metadata": {},
     "output_type": "execute_result"
    }
   ],
   "source": [
    "len(dataFrame)"
   ]
  },
  {
   "cell_type": "code",
   "execution_count": 6,
   "metadata": {},
   "outputs": [
    {
     "data": {
      "text/html": [
       "<div>\n",
       "<style scoped>\n",
       "    .dataframe tbody tr th:only-of-type {\n",
       "        vertical-align: middle;\n",
       "    }\n",
       "\n",
       "    .dataframe tbody tr th {\n",
       "        vertical-align: top;\n",
       "    }\n",
       "\n",
       "    .dataframe thead th {\n",
       "        text-align: right;\n",
       "    }\n",
       "</style>\n",
       "<table border=\"1\" class=\"dataframe\">\n",
       "  <thead>\n",
       "    <tr style=\"text-align: right;\">\n",
       "      <th></th>\n",
       "      <th>Sinhala</th>\n",
       "      <th>Tamil</th>\n",
       "    </tr>\n",
       "  </thead>\n",
       "  <tbody>\n",
       "    <tr>\n",
       "      <th>74506</th>\n",
       "      <td>ෛඑයංකන්කුලම්</td>\n",
       "      <td>ஐயங்கண்குளம்</td>\n",
       "    </tr>\n",
       "    <tr>\n",
       "      <th>74507</th>\n",
       "      <td>ෛඑයන්කන්කුලම්</td>\n",
       "      <td>ஐயன்கன்குளம்</td>\n",
       "    </tr>\n",
       "    <tr>\n",
       "      <th>74508</th>\n",
       "      <td>ෛඑයන්කන්වෙලි</td>\n",
       "      <td>ஐயன்கன்வெளி</td>\n",
       "    </tr>\n",
       "    <tr>\n",
       "      <th>74509</th>\n",
       "      <td>ෛඑයන්පෙරුමාල්</td>\n",
       "      <td>ஐயன்பெருமாள்</td>\n",
       "    </tr>\n",
       "    <tr>\n",
       "      <th>74510</th>\n",
       "      <td>ෛඑයම්පෙරුමාල්</td>\n",
       "      <td>ஐயம்பெருமால்</td>\n",
       "    </tr>\n",
       "  </tbody>\n",
       "</table>\n",
       "</div>"
      ],
      "text/plain": [
       "             Sinhala         Tamil\n",
       "74506   ෛඑයංකන්කුලම්  ஐயங்கண்குளம்\n",
       "74507  ෛඑයන්කන්කුලම්  ஐயன்கன்குளம்\n",
       "74508   ෛඑයන්කන්වෙලි   ஐயன்கன்வெளி\n",
       "74509  ෛඑයන්පෙරුමාල්  ஐயன்பெருமாள்\n",
       "74510  ෛඑයම්පෙරුමාල්  ஐயம்பெருமால்"
      ]
     },
     "execution_count": 6,
     "metadata": {},
     "output_type": "execute_result"
    }
   ],
   "source": [
    "dataFrame.tail(5)"
   ]
  },
  {
   "cell_type": "code",
   "execution_count": 7,
   "metadata": {},
   "outputs": [],
   "source": [
    "dataFrame.dropna(subset=['Sinhala'], inplace=True)\n",
    "dataFrame.dropna(subset=['Tamil'], inplace=True)"
   ]
  },
  {
   "cell_type": "code",
   "execution_count": 8,
   "metadata": {},
   "outputs": [],
   "source": [
    "lastLetter = ['்', 'ா', 'ி', 'ீ', 'ு', 'ூ', 'ெ', 'ே', 'ை', 'ொ', 'ோ', 'ௌ']"
   ]
  },
  {
   "cell_type": "code",
   "execution_count": 9,
   "metadata": {},
   "outputs": [],
   "source": [
    "def lastCharacterDetails(namedEntity):\n",
    "    if(namedEntity[-1] in lastLetter):\n",
    "        namedEntity = namedEntity[:-1]\n",
    "    else:\n",
    "        namedEntity = namedEntity\n",
    "    return namedEntity"
   ]
  },
  {
   "cell_type": "code",
   "execution_count": 10,
   "metadata": {},
   "outputs": [],
   "source": [
    "def addMorpologyTamil(rootNamedEntity, tag):\n",
    "    namedEntity = ''\n",
    "    if(tag==1):     #################  ගේ\n",
    "        if(rootNamedEntity[-1]=='்'):\n",
    "            namedEntity = rootNamedEntity[:-1] + 'ின்'\n",
    "        elif(rootNamedEntity[-1]=='ி' or rootNamedEntity[-1]=='ை'):\n",
    "            namedEntity = rootNamedEntity + 'யின்'\n",
    "        else:\n",
    "            namedEntity = (rootNamedEntity) + 'வின்' \n",
    "    elif(tag==2):     #################  ගෙන්\n",
    "        if(rootNamedEntity[-1]=='்'):\n",
    "            namedEntity = rootNamedEntity[:-1] + 'ிடமிருந்து'\n",
    "        elif(rootNamedEntity[-1]=='ி' or rootNamedEntity[-1]=='ை'):\n",
    "            namedEntity = rootNamedEntity + 'யிடமிருந்து'\n",
    "        else:\n",
    "            namedEntity = (rootNamedEntity) + 'விடமிருந்து' \n",
    "#    elif(tag==3):     #################  සිට\n",
    "#        if(rootNamedEntity[-1]=='ி' or rootNamedEntity[-1]=='ை'):\n",
    "#            namedEntity = rootNamedEntity + 'யிலிருந்து'\n",
    "#        else:\n",
    "#            namedEntity = (rootNamedEntity) + 'ிலிருந்து' \n",
    "    elif(tag==4):     #################  ගේ\n",
    "        if(rootNamedEntity[-1]=='்'):\n",
    "            namedEntity = rootNamedEntity[:-1] + 'ினது'\n",
    "        if(rootNamedEntity[-1]=='ி' or rootNamedEntity[-1]=='ை'):\n",
    "            namedEntity = rootNamedEntity + 'யினது'\n",
    "        elif(rootNamedEntity[-1] == 'ா'):\n",
    "            namedEntity = (rootNamedEntity) + 'வினது'\n",
    "        else:\n",
    "            namedEntity = rootNamedEntity + 'வினது'\n",
    "    elif(tag==5):     #################  ළග\n",
    "        if(rootNamedEntity[-1]=='்'):\n",
    "            namedEntity = rootNamedEntity[:-1] + 'ிடம்'\n",
    "        if(rootNamedEntity[-1]=='ி' or rootNamedEntity[-1]=='ை'):\n",
    "            namedEntity = rootNamedEntity + 'யிடம்'\n",
    "        else:\n",
    "            namedEntity = (rootNamedEntity) + 'விடம்' \n",
    "#    elif(tag==6):     #################  !\n",
    " #       if(rootNamedEntity[-1]=='ி' or rootNamedEntity[-1]=='ை'):\n",
    "  #          namedEntity = rootNamedEntity + 'யே'\n",
    "   #     else:\n",
    "    #        namedEntity = (rootNamedEntity) + 'ே' \n",
    "    elif(tag==7):     #################  ද!\n",
    "        if(rootNamedEntity[-1]=='்'):\n",
    "            namedEntity = rootNamedEntity[:-1] + 'ோ'\n",
    "        if(rootNamedEntity[-1]=='ி' or rootNamedEntity[-1]=='ை'):\n",
    "            namedEntity = rootNamedEntity + 'யோ'\n",
    "        else:\n",
    "            namedEntity = (rootNamedEntity) + 'வோ' \n",
    "    elif(tag==8):     #################  විසින්\n",
    "        if(rootNamedEntity[-1]=='்'):\n",
    "            namedEntity = rootNamedEntity[:-1] + 'ால்'\n",
    "        if(rootNamedEntity[-1]=='ி' or rootNamedEntity[-1]=='ை'):\n",
    "            namedEntity = rootNamedEntity + 'யால்'\n",
    "        else:\n",
    "            namedEntity = (rootNamedEntity) + 'வால்' \n",
    "    elif(tag==9):     #################  සමග\n",
    "        if(rootNamedEntity[-1]=='்'):\n",
    "            namedEntity = rootNamedEntity[:-1] + 'ுடன்'\n",
    "        if(rootNamedEntity[-1]=='ி' or rootNamedEntity[-1]=='ை'):\n",
    "            namedEntity = rootNamedEntity + 'யுடன்'\n",
    "        else:\n",
    "            namedEntity = (rootNamedEntity) + 'வுடன்' \n",
    "    elif(tag==10):     #################  සමග\n",
    "        if(rootNamedEntity[-1]=='்'):\n",
    "            namedEntity = rootNamedEntity[:-1] + 'ோடு'\n",
    "        if(rootNamedEntity[-1]=='ி' or rootNamedEntity[-1]=='ை'):\n",
    "            namedEntity = rootNamedEntity + 'யோடு'\n",
    "        else:\n",
    "            namedEntity = (rootNamedEntity) + 'வோடு' \n",
    "    elif(tag==11):     #################  ව\n",
    "        if(rootNamedEntity[-1]=='்'):\n",
    "            namedEntity = rootNamedEntity[:-1] + 'ை'\n",
    "        if(rootNamedEntity[-1]=='ி' or rootNamedEntity[-1]=='ை'):\n",
    "            namedEntity = rootNamedEntity + 'யை'\n",
    "        else:\n",
    "            namedEntity = (rootNamedEntity) + 'வை'\n",
    "    elif(tag==12):     #################  ට\n",
    "        if(rootNamedEntity[-1]=='்'):\n",
    "            namedEntity = rootNamedEntity[:-1] + 'ுக்கு'\n",
    "        if(rootNamedEntity[-1]=='ி' or rootNamedEntity[-1]=='ை'):\n",
    "            namedEntity = rootNamedEntity + 'க்கு'\n",
    "        else:\n",
    "            namedEntity = (rootNamedEntity) + 'வுக்கு'\n",
    "    elif(tag==20):     #################  \n",
    "        namedEntity = rootNamedEntity \n",
    " #   else:\n",
    "  #      namedEntity = rootNamedEntity\n",
    "    return namedEntity"
   ]
  },
  {
   "cell_type": "code",
   "execution_count": 11,
   "metadata": {},
   "outputs": [],
   "source": [
    "def addMorpologySinhala(rootNamedEntity, tag):\n",
    "    namedEntity = ''\n",
    "    if(tag==1):\n",
    "        namedEntity = rootNamedEntity + 'ගේ'\n",
    "    elif(tag==2):\n",
    "        namedEntity = rootNamedEntity + 'ගෙන්'\n",
    "#    elif(tag==3):\n",
    "#        namedEntity = rootNamedEntity + ' සිට'\n",
    "    elif(tag==4):\n",
    "        namedEntity = rootNamedEntity + 'ගේ'\n",
    "    elif(tag==5):\n",
    "        namedEntity = rootNamedEntity + ' ළග'\n",
    "#    elif(tag==6):\n",
    " #       namedEntity = rootNamedEntity + '!'\n",
    "    elif(tag==7):\n",
    "        namedEntity = rootNamedEntity + ' ද!'\n",
    "    elif(tag==8):\n",
    "        namedEntity = rootNamedEntity + ' විසින්'\n",
    "    elif(tag==9):\n",
    "        namedEntity = rootNamedEntity + ' සමග'\n",
    "    elif(tag==10):\n",
    "        namedEntity = rootNamedEntity + ' සමග'\n",
    "    elif(tag==11):\n",
    "        namedEntity = rootNamedEntity + 'ව'\n",
    "    elif(tag==12):\n",
    "        namedEntity = rootNamedEntity + 'ට'\n",
    "    elif(tag==20):\n",
    "        namedEntity = rootNamedEntity\n",
    "  #  else:\n",
    "   #     namedEntity = rootNamedEntity\n",
    "    return namedEntity"
   ]
  },
  {
   "cell_type": "code",
   "execution_count": 12,
   "metadata": {},
   "outputs": [],
   "source": [
    "sinhalaVariations = []\n",
    "tamilVariations = []"
   ]
  },
  {
   "cell_type": "code",
   "execution_count": 13,
   "metadata": {},
   "outputs": [],
   "source": [
    "for index, raw in dataFrame.iterrows():\n",
    "    sinhalaBuffer = [raw['Sinhala']]\n",
    "    tamilBuffer = [raw['Tamil']]\n",
    "    mixedBuffer = []\n",
    "    for tag in range(1, 13):\n",
    "        if(tag == 3 or tag == 6):\n",
    "            continue\n",
    "        sinhalaMorpology = addMorpologySinhala(raw['Sinhala'], tag)\n",
    "        tamilMorpology = addMorpologyTamil(raw['Tamil'], tag)\n",
    "   #     mixedBuffer.append(sinhalaMorpology)\n",
    "    #    mixedBuffer.append(tamilMorpology)\n",
    "        sinhalaBuffer.append(sinhalaMorpology)\n",
    "        tamilBuffer.append(tamilMorpology)\n",
    "    #print(sinhalaBuffer)\n",
    "    #print(tamilBuffer)\n",
    " #   mixedVariations\n",
    "    sinhalaVariations.extend(sinhalaBuffer)\n",
    "    tamilVariations.extend(tamilBuffer)"
   ]
  },
  {
   "cell_type": "code",
   "execution_count": 14,
   "metadata": {},
   "outputs": [
    {
     "name": "stdout",
     "output_type": "stream",
     "text": [
      "819566\n",
      "819566\n"
     ]
    }
   ],
   "source": [
    "print(len(sinhalaVariations))\n",
    "print(len(tamilVariations))"
   ]
  },
  {
   "cell_type": "code",
   "execution_count": 15,
   "metadata": {},
   "outputs": [],
   "source": [
    "sinhalaSeries = pd.Series(sinhalaVariations, name=\"Sinhala\")\n",
    "tamilSeries = pd.Series(tamilVariations, name=\"Tamil\")"
   ]
  },
  {
   "cell_type": "code",
   "execution_count": 16,
   "metadata": {},
   "outputs": [],
   "source": [
    "data = pd.DataFrame({'Sinhala':sinhalaSeries, 'Tamil':tamilSeries})"
   ]
  },
  {
   "cell_type": "code",
   "execution_count": 17,
   "metadata": {},
   "outputs": [
    {
     "data": {
      "text/html": [
       "<div>\n",
       "<style scoped>\n",
       "    .dataframe tbody tr th:only-of-type {\n",
       "        vertical-align: middle;\n",
       "    }\n",
       "\n",
       "    .dataframe tbody tr th {\n",
       "        vertical-align: top;\n",
       "    }\n",
       "\n",
       "    .dataframe thead th {\n",
       "        text-align: right;\n",
       "    }\n",
       "</style>\n",
       "<table border=\"1\" class=\"dataframe\">\n",
       "  <thead>\n",
       "    <tr style=\"text-align: right;\">\n",
       "      <th></th>\n",
       "      <th>Sinhala</th>\n",
       "      <th>Tamil</th>\n",
       "    </tr>\n",
       "  </thead>\n",
       "  <tbody>\n",
       "    <tr>\n",
       "      <th>0</th>\n",
       "      <td>සීනෝර් නිවාස ක්‍රමය</td>\n",
       "      <td>சீநோர் வீட்டு திட்டம்</td>\n",
       "    </tr>\n",
       "    <tr>\n",
       "      <th>1</th>\n",
       "      <td>සීනෝර් නිවාස ක්‍රමයගේ</td>\n",
       "      <td>சீநோர் வீட்டு திட்டமின்</td>\n",
       "    </tr>\n",
       "    <tr>\n",
       "      <th>2</th>\n",
       "      <td>සීනෝර් නිවාස ක්‍රමයගෙන්</td>\n",
       "      <td>சீநோர் வீட்டு திட்டமிடமிருந்து</td>\n",
       "    </tr>\n",
       "    <tr>\n",
       "      <th>3</th>\n",
       "      <td>සීනෝර් නිවාස ක්‍රමයගේ</td>\n",
       "      <td>சீநோர் வீட்டு திட்டம்வினது</td>\n",
       "    </tr>\n",
       "    <tr>\n",
       "      <th>4</th>\n",
       "      <td>සීනෝර් නිවාස ක්‍රමය ළග</td>\n",
       "      <td>சீநோர் வீட்டு திட்டம்விடம்</td>\n",
       "    </tr>\n",
       "  </tbody>\n",
       "</table>\n",
       "</div>"
      ],
      "text/plain": [
       "                   Sinhala                           Tamil\n",
       "0      සීනෝර් නිවාස ක්‍රමය           சீநோர் வீட்டு திட்டம்\n",
       "1    සීනෝර් නිවාස ක්‍රමයගේ         சீநோர் வீட்டு திட்டமின்\n",
       "2  සීනෝර් නිවාස ක්‍රමයගෙන්  சீநோர் வீட்டு திட்டமிடமிருந்து\n",
       "3    සීනෝර් නිවාස ක්‍රමයගේ      சீநோர் வீட்டு திட்டம்வினது\n",
       "4   සීනෝර් නිවාස ක්‍රමය ළග      சீநோர் வீட்டு திட்டம்விடம்"
      ]
     },
     "execution_count": 17,
     "metadata": {},
     "output_type": "execute_result"
    }
   ],
   "source": [
    "data.head()"
   ]
  },
  {
   "cell_type": "code",
   "execution_count": 18,
   "metadata": {},
   "outputs": [],
   "source": [
    "export_excel = data.to_excel('location_names_with_cases.xlsx', index = None, header=True)"
   ]
  },
  {
   "cell_type": "code",
   "execution_count": null,
   "metadata": {},
   "outputs": [],
   "source": []
  }
 ],
 "metadata": {
  "kernelspec": {
   "display_name": "Python 3",
   "language": "python",
   "name": "python3"
  },
  "language_info": {
   "codemirror_mode": {
    "name": "ipython",
    "version": 3
   },
   "file_extension": ".py",
   "mimetype": "text/x-python",
   "name": "python",
   "nbconvert_exporter": "python",
   "pygments_lexer": "ipython3",
   "version": "3.7.1"
  }
 },
 "nbformat": 4,
 "nbformat_minor": 2
}
