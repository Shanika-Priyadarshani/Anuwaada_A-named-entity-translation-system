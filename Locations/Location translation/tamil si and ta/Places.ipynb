{
 "cells": [
  {
   "cell_type": "code",
   "execution_count": 1,
   "metadata": {},
   "outputs": [],
   "source": [
    "import pandas as pd"
   ]
  },
  {
   "cell_type": "code",
   "execution_count": 2,
   "metadata": {},
   "outputs": [],
   "source": [
    "df = pd.read_excel(\"location_ tamil.xlsx\")"
   ]
  },
  {
   "cell_type": "code",
   "execution_count": 3,
   "metadata": {},
   "outputs": [],
   "source": [
    "dataFrame = df"
   ]
  },
  {
   "cell_type": "code",
   "execution_count": 4,
   "metadata": {},
   "outputs": [
    {
     "data": {
      "text/html": [
       "<div>\n",
       "<style scoped>\n",
       "    .dataframe tbody tr th:only-of-type {\n",
       "        vertical-align: middle;\n",
       "    }\n",
       "\n",
       "    .dataframe tbody tr th {\n",
       "        vertical-align: top;\n",
       "    }\n",
       "\n",
       "    .dataframe thead th {\n",
       "        text-align: right;\n",
       "    }\n",
       "</style>\n",
       "<table border=\"1\" class=\"dataframe\">\n",
       "  <thead>\n",
       "    <tr style=\"text-align: right;\">\n",
       "      <th></th>\n",
       "      <th>Sinhala</th>\n",
       "      <th>Tamil</th>\n",
       "    </tr>\n",
       "  </thead>\n",
       "  <tbody>\n",
       "    <tr>\n",
       "      <th>0</th>\n",
       "      <td>නෙල්සන්පුර</td>\n",
       "      <td>நெல்சன்புர</td>\n",
       "    </tr>\n",
       "    <tr>\n",
       "      <th>1</th>\n",
       "      <td>අම්පලප්පුලම්</td>\n",
       "      <td>அம்பலப்புலம்</td>\n",
       "    </tr>\n",
       "    <tr>\n",
       "      <th>2</th>\n",
       "      <td>සාම්පල්ත්තෝට්ටම්</td>\n",
       "      <td>சாம்பல்த்தோட்டம்</td>\n",
       "    </tr>\n",
       "    <tr>\n",
       "      <th>3</th>\n",
       "      <td>වඩ්ඩුකෝට්ටෙයි</td>\n",
       "      <td>வட்டு</td>\n",
       "    </tr>\n",
       "    <tr>\n",
       "      <th>4</th>\n",
       "      <td>අක්කර</td>\n",
       "      <td>ம் ஏக்கர்</td>\n",
       "    </tr>\n",
       "  </tbody>\n",
       "</table>\n",
       "</div>"
      ],
      "text/plain": [
       "            Sinhala             Tamil\n",
       "0        නෙල්සන්පුර        நெல்சன்புர\n",
       "1      අම්පලප්පුලම්      அம்பலப்புலம்\n",
       "2  සාම්පල්ත්තෝට්ටම්  சாம்பல்த்தோட்டம்\n",
       "3     වඩ්ඩුකෝට්ටෙයි             வட்டு\n",
       "4             අක්කර         ம் ஏக்கர்"
      ]
     },
     "execution_count": 4,
     "metadata": {},
     "output_type": "execute_result"
    }
   ],
   "source": [
    "dataFrame.head(5)"
   ]
  },
  {
   "cell_type": "code",
   "execution_count": 5,
   "metadata": {},
   "outputs": [],
   "source": [
    "dataFrame.dropna(subset=['Sinhala'], inplace=True)\n",
    "dataFrame.dropna(subset=['Tamil'], inplace=True)"
   ]
  },
  {
   "cell_type": "code",
   "execution_count": 6,
   "metadata": {},
   "outputs": [],
   "source": [
    "lastLetter = ['்', 'ா', 'ி', 'ீ', 'ு', 'ூ', 'ெ', 'ே', 'ை', 'ொ', 'ோ', 'ௌ']"
   ]
  },
  {
   "cell_type": "code",
   "execution_count": 7,
   "metadata": {},
   "outputs": [],
   "source": [
    "def lastCharacterDetails(namedEntity):\n",
    "    if(namedEntity[-1] in lastLetter):\n",
    "        namedEntity = namedEntity[:-1]\n",
    "    else:\n",
    "        namedEntity = namedEntity\n",
    "    return namedEntity"
   ]
  },
  {
   "cell_type": "code",
   "execution_count": 8,
   "metadata": {},
   "outputs": [],
   "source": [
    "def addMorpologyTamil(rootNamedEntity, tag):\n",
    "    namedEntity = ''\n",
    "    if(tag==1):     #################  සිට\n",
    "        if(rootNamedEntity[-1]=='ி' or rootNamedEntity[-1]=='ை'):\n",
    "            namedEntity = rootNamedEntity + 'யிலிருந்து'\n",
    "        else:\n",
    "            namedEntity = lastCharacterDetails(rootNamedEntity) + 'ிலிருந்து' \n",
    "    elif(tag==2):     #################  ළග\n",
    "        if(rootNamedEntity[-1]=='ி' or rootNamedEntity[-1]=='ை'):\n",
    "            namedEntity = rootNamedEntity + 'யிடம்'\n",
    "        else:\n",
    "            namedEntity = lastCharacterDetails(rootNamedEntity) + 'விடம்'  \n",
    "    elif(tag==3):     #################  ද!\n",
    "        if(rootNamedEntity[-1]=='ி' or rootNamedEntity[-1]=='ை'):\n",
    "            namedEntity = rootNamedEntity + 'யோ'\n",
    "        else:\n",
    "            namedEntity = lastCharacterDetails(rootNamedEntity) + 'ோ' \n",
    "    elif(tag==4):     #################  ට\n",
    "        if(rootNamedEntity[-1]=='ி' or rootNamedEntity[-1]=='ை'):\n",
    "            namedEntity = rootNamedEntity + 'க்கு'\n",
    "        else:\n",
    "            namedEntity = lastCharacterDetails(rootNamedEntity) + 'ுக்கு'\n",
    "    elif(tag==5):     #################  දක්වා\n",
    "     #   if(rootNamedEntity[-1]=='ி' or rootNamedEntity[-1]=='ை'):\n",
    "      #      namedEntity = rootNamedEntity + 'க்கு'\n",
    "       # else:\n",
    "        namedEntity = rootNamedEntity + 'வரை'\n",
    "    elif(tag==6):     ################# ඉන්, එන් - ම\n",
    "        namedEntity = rootNamedEntity + 'யில்'\n",
    "    elif(tag==10):     #################  \n",
    "        namedEntity = rootNamedEntity \n",
    "    return namedEntity"
   ]
  },
  {
   "cell_type": "code",
   "execution_count": 9,
   "metadata": {},
   "outputs": [],
   "source": [
    "def addMorpologySinhala(rootNamedEntity, tag):\n",
    "    namedEntity = ''\n",
    "    if(tag==1):\n",
    "        namedEntity = rootNamedEntity + ' සිට' #-----\n",
    "    elif(tag==2):\n",
    "        namedEntity = rootNamedEntity + ' ළග' #-----\n",
    "    elif(tag==3):\n",
    "        namedEntity = rootNamedEntity + ' ද!' #-----\n",
    "    elif(tag==4):\n",
    "        namedEntity = rootNamedEntity + 'ට' #-----\n",
    "    elif(tag==5):\n",
    "        namedEntity = rootNamedEntity + ' දක්වා' #-----\n",
    "    elif(tag==6):\n",
    "        listException = ['ක', 'ල', 'ව', 'ය', 'න', 'ත', 'ග', 'ද']\n",
    "        lastLetter = ['்', 'ா', 'ி', 'ீ', 'ு', 'ூ', 'ெ', 'ே', 'ை', 'ொ', 'ோ', 'ௌ']\n",
    "        if(rootNamedEntity[-1] in lastLetter):\n",
    "            namedEntity = rootNamedEntity + 'න්'\n",
    "        elif(rootNamedEntity[-1] in listException):\n",
    "            namedEntity = rootNamedEntity + 'ෙන්'\n",
    "        else:\n",
    "            namedEntity = rootNamedEntity + 'ින්' #-----\n",
    "    elif(tag==10):\n",
    "        namedEntity = rootNamedEntity\n",
    "    return namedEntity"
   ]
  },
  {
   "cell_type": "code",
   "execution_count": 10,
   "metadata": {},
   "outputs": [],
   "source": [
    "sinhalaVariations = []\n",
    "tamilVariations = []"
   ]
  },
  {
   "cell_type": "code",
   "execution_count": 11,
   "metadata": {},
   "outputs": [],
   "source": [
    "for index, raw in dataFrame.iterrows():\n",
    "    sinhalaBuffer = [raw['Sinhala']]\n",
    "    tamilBuffer = [raw['Tamil']]\n",
    "    mixedBuffer = []\n",
    "    for tag in range(1, 7):\n",
    "        sinhalaMorpology = addMorpologySinhala(raw['Sinhala'], tag)\n",
    "        tamilMorpology = addMorpologyTamil(raw['Tamil'], tag)\n",
    "   #     mixedBuffer.append(sinhalaMorpology)\n",
    "    #    mixedBuffer.append(tamilMorpology)\n",
    "        sinhalaBuffer.append(sinhalaMorpology)\n",
    "        tamilBuffer.append(tamilMorpology)\n",
    "    #print(sinhalaBuffer)\n",
    "    #print(tamilBuffer)\n",
    " #   mixedVariations\n",
    "    sinhalaVariations.extend(sinhalaBuffer)\n",
    "    tamilVariations.extend(tamilBuffer)"
   ]
  },
  {
   "cell_type": "code",
   "execution_count": 12,
   "metadata": {},
   "outputs": [
    {
     "name": "stdout",
     "output_type": "stream",
     "text": [
      "65772\n",
      "65772\n"
     ]
    }
   ],
   "source": [
    "print(len(sinhalaVariations))\n",
    "print(len(tamilVariations))"
   ]
  },
  {
   "cell_type": "code",
   "execution_count": 13,
   "metadata": {},
   "outputs": [],
   "source": [
    "sinhalaSeries = pd.Series(sinhalaVariations, name=\"Sinhala\")\n",
    "tamilSeries = pd.Series(tamilVariations, name=\"Tamil\")"
   ]
  },
  {
   "cell_type": "code",
   "execution_count": 14,
   "metadata": {},
   "outputs": [],
   "source": [
    "data = pd.DataFrame({'Sinhala':sinhalaSeries, 'Tamil':tamilSeries})"
   ]
  },
  {
   "cell_type": "code",
   "execution_count": 15,
   "metadata": {},
   "outputs": [
    {
     "data": {
      "text/html": [
       "<div>\n",
       "<style scoped>\n",
       "    .dataframe tbody tr th:only-of-type {\n",
       "        vertical-align: middle;\n",
       "    }\n",
       "\n",
       "    .dataframe tbody tr th {\n",
       "        vertical-align: top;\n",
       "    }\n",
       "\n",
       "    .dataframe thead th {\n",
       "        text-align: right;\n",
       "    }\n",
       "</style>\n",
       "<table border=\"1\" class=\"dataframe\">\n",
       "  <thead>\n",
       "    <tr style=\"text-align: right;\">\n",
       "      <th></th>\n",
       "      <th>Sinhala</th>\n",
       "      <th>Tamil</th>\n",
       "    </tr>\n",
       "  </thead>\n",
       "  <tbody>\n",
       "    <tr>\n",
       "      <th>0</th>\n",
       "      <td>නෙල්සන්පුර</td>\n",
       "      <td>நெல்சன்புர</td>\n",
       "    </tr>\n",
       "    <tr>\n",
       "      <th>1</th>\n",
       "      <td>නෙල්සන්පුර සිට</td>\n",
       "      <td>நெல்சன்புரிலிருந்து</td>\n",
       "    </tr>\n",
       "    <tr>\n",
       "      <th>2</th>\n",
       "      <td>නෙල්සන්පුර ළග</td>\n",
       "      <td>நெல்சன்புரவிடம்</td>\n",
       "    </tr>\n",
       "    <tr>\n",
       "      <th>3</th>\n",
       "      <td>නෙල්සන්පුර ද!</td>\n",
       "      <td>நெல்சன்புரோ</td>\n",
       "    </tr>\n",
       "    <tr>\n",
       "      <th>4</th>\n",
       "      <td>නෙල්සන්පුරට</td>\n",
       "      <td>நெல்சன்புருக்கு</td>\n",
       "    </tr>\n",
       "  </tbody>\n",
       "</table>\n",
       "</div>"
      ],
      "text/plain": [
       "          Sinhala                Tamil\n",
       "0      නෙල්සන්පුර           நெல்சன்புர\n",
       "1  නෙල්සන්පුර සිට  நெல்சன்புரிலிருந்து\n",
       "2   නෙල්සන්පුර ළග      நெல்சன்புரவிடம்\n",
       "3   නෙල්සන්පුර ද!          நெல்சன்புரோ\n",
       "4     නෙල්සන්පුරට      நெல்சன்புருக்கு"
      ]
     },
     "execution_count": 15,
     "metadata": {},
     "output_type": "execute_result"
    }
   ],
   "source": [
    "data.head()"
   ]
  },
  {
   "cell_type": "code",
   "execution_count": 16,
   "metadata": {},
   "outputs": [],
   "source": [
    "export_excel = data.to_excel('locations tamil with casemarkers.xlsx', index = None, header=True)"
   ]
  },
  {
   "cell_type": "code",
   "execution_count": null,
   "metadata": {},
   "outputs": [],
   "source": []
  }
 ],
 "metadata": {
  "kernelspec": {
   "display_name": "Python 3",
   "language": "python",
   "name": "python3"
  },
  "language_info": {
   "codemirror_mode": {
    "name": "ipython",
    "version": 3
   },
   "file_extension": ".py",
   "mimetype": "text/x-python",
   "name": "python",
   "nbconvert_exporter": "python",
   "pygments_lexer": "ipython3",
   "version": "3.6.8"
  }
 },
 "nbformat": 4,
 "nbformat_minor": 2
}
