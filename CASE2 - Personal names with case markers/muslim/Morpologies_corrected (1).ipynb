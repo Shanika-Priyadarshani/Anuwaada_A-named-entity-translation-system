{
 "cells": [
  {
   "cell_type": "code",
   "execution_count": 1,
   "metadata": {},
   "outputs": [],
   "source": [
    "import pandas as pd"
   ]
  },
  {
   "cell_type": "code",
   "execution_count": 2,
   "metadata": {},
   "outputs": [],
   "source": [
    "df = pd.read_excel(\"muslim_names_cleaned_unique.xlsx\")"
   ]
  },
  {
   "cell_type": "code",
   "execution_count": 3,
   "metadata": {},
   "outputs": [],
   "source": [
    "dataFrame = df"
   ]
  },
  {
   "cell_type": "code",
   "execution_count": 4,
   "metadata": {},
   "outputs": [
    {
     "data": {
      "text/html": [
       "<div>\n",
       "<style scoped>\n",
       "    .dataframe tbody tr th:only-of-type {\n",
       "        vertical-align: middle;\n",
       "    }\n",
       "\n",
       "    .dataframe tbody tr th {\n",
       "        vertical-align: top;\n",
       "    }\n",
       "\n",
       "    .dataframe thead th {\n",
       "        text-align: right;\n",
       "    }\n",
       "</style>\n",
       "<table border=\"1\" class=\"dataframe\">\n",
       "  <thead>\n",
       "    <tr style=\"text-align: right;\">\n",
       "      <th></th>\n",
       "      <th>Sinhala</th>\n",
       "      <th>Tamil</th>\n",
       "    </tr>\n",
       "  </thead>\n",
       "  <tbody>\n",
       "    <tr>\n",
       "      <th>0</th>\n",
       "      <td>හාමිදු</td>\n",
       "      <td>ஹாமிது</td>\n",
       "    </tr>\n",
       "    <tr>\n",
       "      <th>1</th>\n",
       "      <td>ලෙබ්බේ</td>\n",
       "      <td>லெப்வை</td>\n",
       "    </tr>\n",
       "    <tr>\n",
       "      <th>2</th>\n",
       "      <td>මීරසායිබු</td>\n",
       "      <td>மீராசாய்பு</td>\n",
       "    </tr>\n",
       "    <tr>\n",
       "      <th>3</th>\n",
       "      <td>අබ්දුල්</td>\n",
       "      <td>அப்துல்</td>\n",
       "    </tr>\n",
       "    <tr>\n",
       "      <th>4</th>\n",
       "      <td>හමිඳු</td>\n",
       "      <td>ஹமீது</td>\n",
       "    </tr>\n",
       "  </tbody>\n",
       "</table>\n",
       "</div>"
      ],
      "text/plain": [
       "     Sinhala       Tamil\n",
       "0     හාමිදු      ஹாமிது\n",
       "1     ලෙබ්බේ      லெப்வை\n",
       "2  මීරසායිබු  மீராசாய்பு\n",
       "3    අබ්දුල්     அப்துல்\n",
       "4      හමිඳු       ஹமீது"
      ]
     },
     "execution_count": 4,
     "metadata": {},
     "output_type": "execute_result"
    }
   ],
   "source": [
    "dataFrame.head(5)"
   ]
  },
  {
   "cell_type": "code",
   "execution_count": 5,
   "metadata": {},
   "outputs": [
    {
     "data": {
      "text/plain": [
       "10430"
      ]
     },
     "execution_count": 5,
     "metadata": {},
     "output_type": "execute_result"
    }
   ],
   "source": [
    "len(dataFrame)"
   ]
  },
  {
   "cell_type": "code",
   "execution_count": 6,
   "metadata": {},
   "outputs": [
    {
     "data": {
      "text/html": [
       "<div>\n",
       "<style scoped>\n",
       "    .dataframe tbody tr th:only-of-type {\n",
       "        vertical-align: middle;\n",
       "    }\n",
       "\n",
       "    .dataframe tbody tr th {\n",
       "        vertical-align: top;\n",
       "    }\n",
       "\n",
       "    .dataframe thead th {\n",
       "        text-align: right;\n",
       "    }\n",
       "</style>\n",
       "<table border=\"1\" class=\"dataframe\">\n",
       "  <thead>\n",
       "    <tr style=\"text-align: right;\">\n",
       "      <th></th>\n",
       "      <th>Sinhala</th>\n",
       "      <th>Tamil</th>\n",
       "    </tr>\n",
       "  </thead>\n",
       "  <tbody>\n",
       "    <tr>\n",
       "      <th>10425</th>\n",
       "      <td>අමානුදීන්</td>\n",
       "      <td>அமானுதீன்</td>\n",
       "    </tr>\n",
       "    <tr>\n",
       "      <th>10426</th>\n",
       "      <td>අජිමත්</td>\n",
       "      <td>அஜிமத்</td>\n",
       "    </tr>\n",
       "    <tr>\n",
       "      <th>10427</th>\n",
       "      <td>ලෙබ්බෙතම්බි</td>\n",
       "      <td>லெவ்வைத்தம்பி</td>\n",
       "    </tr>\n",
       "    <tr>\n",
       "      <th>10428</th>\n",
       "      <td>අසීසා</td>\n",
       "      <td>அஸீசா</td>\n",
       "    </tr>\n",
       "    <tr>\n",
       "      <th>10429</th>\n",
       "      <td>මුහම්මද්බුක්කර්</td>\n",
       "      <td>முகம்மதபூவக்கர்</td>\n",
       "    </tr>\n",
       "  </tbody>\n",
       "</table>\n",
       "</div>"
      ],
      "text/plain": [
       "               Sinhala            Tamil\n",
       "10425        අමානුදීන්        அமானுதீன்\n",
       "10426           අජිමත්           அஜிமத்\n",
       "10427      ලෙබ්බෙතම්බි    லெவ்வைத்தம்பி\n",
       "10428            අසීසා            அஸீசா\n",
       "10429  මුහම්මද්බුක්කර්  முகம்மதபூவக்கர்"
      ]
     },
     "execution_count": 6,
     "metadata": {},
     "output_type": "execute_result"
    }
   ],
   "source": [
    "dataFrame.tail(5)"
   ]
  },
  {
   "cell_type": "code",
   "execution_count": 7,
   "metadata": {},
   "outputs": [],
   "source": [
    "dataFrame.dropna(subset=['Sinhala'], inplace=True)\n",
    "dataFrame.dropna(subset=['Tamil'], inplace=True)"
   ]
  },
  {
   "cell_type": "code",
   "execution_count": 8,
   "metadata": {},
   "outputs": [],
   "source": [
    "lastLetter = ['்', 'ா', 'ி', 'ீ', 'ு', 'ூ', 'ெ', 'ே', 'ை', 'ொ', 'ோ', 'ௌ']"
   ]
  },
  {
   "cell_type": "code",
   "execution_count": 9,
   "metadata": {},
   "outputs": [],
   "source": [
    "def lastCharacterDetails(namedEntity):\n",
    "    if(namedEntity[-1] in lastLetter):\n",
    "        namedEntity = namedEntity[:-1]\n",
    "    else:\n",
    "        namedEntity = namedEntity\n",
    "    return namedEntity"
   ]
  },
  {
   "cell_type": "code",
   "execution_count": 10,
   "metadata": {},
   "outputs": [],
   "source": [
    "def addMorpologyTamil(rootNamedEntity, tag):\n",
    "    namedEntity = ''\n",
    "    if(tag==1):     #################  ගේ\n",
    "        if(rootNamedEntity[-1]=='்'):\n",
    "            namedEntity = rootNamedEntity[:-1] + 'ின்'\n",
    "        elif(rootNamedEntity[-1]=='ி' or rootNamedEntity[-1]=='ை'):\n",
    "            namedEntity = rootNamedEntity + 'யின்'\n",
    "        else:\n",
    "            namedEntity = (rootNamedEntity) + 'வின்' \n",
    "    elif(tag==2):     #################  ගෙන්\n",
    "        if(rootNamedEntity[-1]=='்'):\n",
    "            namedEntity = rootNamedEntity[:-1] + 'ிடமிருந்து'\n",
    "        elif(rootNamedEntity[-1]=='ி' or rootNamedEntity[-1]=='ை'):\n",
    "            namedEntity = rootNamedEntity + 'யிடமிருந்து'\n",
    "        else:\n",
    "            namedEntity = (rootNamedEntity) + 'விடமிருந்து' \n",
    "#    elif(tag==3):     #################  සිට\n",
    "#        if(rootNamedEntity[-1]=='ி' or rootNamedEntity[-1]=='ை'):\n",
    "#            namedEntity = rootNamedEntity + 'யிலிருந்து'\n",
    "#        else:\n",
    "#            namedEntity = (rootNamedEntity) + 'ிலிருந்து' \n",
    "    elif(tag==4):     #################  ගේ\n",
    "        if(rootNamedEntity[-1]=='்'):\n",
    "            namedEntity = rootNamedEntity[:-1] + 'ினது'\n",
    "        if(rootNamedEntity[-1]=='ி' or rootNamedEntity[-1]=='ை'):\n",
    "            namedEntity = rootNamedEntity + 'யினது'\n",
    "        elif(rootNamedEntity[-1] == 'ா'):\n",
    "            namedEntity = (rootNamedEntity) + 'வினது'\n",
    "        else:\n",
    "            namedEntity = rootNamedEntity + 'வினது'\n",
    "    elif(tag==5):     #################  ළග\n",
    "        if(rootNamedEntity[-1]=='்'):\n",
    "            namedEntity = rootNamedEntity[:-1] + 'ிடம்'\n",
    "        if(rootNamedEntity[-1]=='ி' or rootNamedEntity[-1]=='ை'):\n",
    "            namedEntity = rootNamedEntity + 'யிடம்'\n",
    "        else:\n",
    "            namedEntity = (rootNamedEntity) + 'விடம்' \n",
    "#    elif(tag==6):     #################  !\n",
    " #       if(rootNamedEntity[-1]=='ி' or rootNamedEntity[-1]=='ை'):\n",
    "  #          namedEntity = rootNamedEntity + 'யே'\n",
    "   #     else:\n",
    "    #        namedEntity = (rootNamedEntity) + 'ே' \n",
    "    elif(tag==7):     #################  ද!\n",
    "        if(rootNamedEntity[-1]=='்'):\n",
    "            namedEntity = rootNamedEntity[:-1] + 'ோ'\n",
    "        if(rootNamedEntity[-1]=='ி' or rootNamedEntity[-1]=='ை'):\n",
    "            namedEntity = rootNamedEntity + 'யோ'\n",
    "        else:\n",
    "            namedEntity = (rootNamedEntity) + 'வோ' \n",
    "    elif(tag==8):     #################  විසින්\n",
    "        if(rootNamedEntity[-1]=='்'):\n",
    "            namedEntity = rootNamedEntity[:-1] + 'ால்'\n",
    "        if(rootNamedEntity[-1]=='ி' or rootNamedEntity[-1]=='ை'):\n",
    "            namedEntity = rootNamedEntity + 'யால்'\n",
    "        else:\n",
    "            namedEntity = (rootNamedEntity) + 'வால்' \n",
    "    elif(tag==9):     #################  සමග\n",
    "        if(rootNamedEntity[-1]=='்'):\n",
    "            namedEntity = rootNamedEntity[:-1] + 'ுடன்'\n",
    "        if(rootNamedEntity[-1]=='ி' or rootNamedEntity[-1]=='ை'):\n",
    "            namedEntity = rootNamedEntity + 'யுடன்'\n",
    "        else:\n",
    "            namedEntity = (rootNamedEntity) + 'வுடன்' \n",
    "    elif(tag==10):     #################  සමග\n",
    "        if(rootNamedEntity[-1]=='்'):\n",
    "            namedEntity = rootNamedEntity[:-1] + 'ோடு'\n",
    "        if(rootNamedEntity[-1]=='ி' or rootNamedEntity[-1]=='ை'):\n",
    "            namedEntity = rootNamedEntity + 'யோடு'\n",
    "        else:\n",
    "            namedEntity = (rootNamedEntity) + 'வோடு' \n",
    "    elif(tag==11):     #################  ව\n",
    "        if(rootNamedEntity[-1]=='்'):\n",
    "            namedEntity = rootNamedEntity[:-1] + 'ை'\n",
    "        if(rootNamedEntity[-1]=='ி' or rootNamedEntity[-1]=='ை'):\n",
    "            namedEntity = rootNamedEntity + 'யை'\n",
    "        else:\n",
    "            namedEntity = (rootNamedEntity) + 'வை'\n",
    "    elif(tag==12):     #################  ට\n",
    "        if(rootNamedEntity[-1]=='்'):\n",
    "            namedEntity = rootNamedEntity[:-1] + 'ுக்கு'\n",
    "        if(rootNamedEntity[-1]=='ி' or rootNamedEntity[-1]=='ை'):\n",
    "            namedEntity = rootNamedEntity + 'க்கு'\n",
    "        else:\n",
    "            namedEntity = (rootNamedEntity) + 'வுக்கு'\n",
    "    elif(tag==20):     #################  \n",
    "        namedEntity = rootNamedEntity \n",
    " #   else:\n",
    "  #      namedEntity = rootNamedEntity\n",
    "    return namedEntity"
   ]
  },
  {
   "cell_type": "code",
   "execution_count": 11,
   "metadata": {},
   "outputs": [],
   "source": [
    "def addMorpologySinhala(rootNamedEntity, tag):\n",
    "    namedEntity = ''\n",
    "    if(tag==1):\n",
    "        namedEntity = rootNamedEntity + 'ගේ'\n",
    "    elif(tag==2):\n",
    "        namedEntity = rootNamedEntity + 'ගෙන්'\n",
    "#    elif(tag==3):\n",
    "#        namedEntity = rootNamedEntity + ' සිට'\n",
    "    elif(tag==4):\n",
    "        namedEntity = rootNamedEntity + 'ගේ'\n",
    "    elif(tag==5):\n",
    "        namedEntity = rootNamedEntity + ' ළග'\n",
    "#    elif(tag==6):\n",
    " #       namedEntity = rootNamedEntity + '!'\n",
    "    elif(tag==7):\n",
    "        namedEntity = rootNamedEntity + ' ද!'\n",
    "    elif(tag==8):\n",
    "        namedEntity = rootNamedEntity + ' විසින්'\n",
    "    elif(tag==9):\n",
    "        namedEntity = rootNamedEntity + ' සමග'\n",
    "    elif(tag==10):\n",
    "        namedEntity = rootNamedEntity + ' සමග'\n",
    "    elif(tag==11):\n",
    "        namedEntity = rootNamedEntity + 'ව'\n",
    "    elif(tag==12):\n",
    "        namedEntity = rootNamedEntity + 'ට'\n",
    "    elif(tag==20):\n",
    "        namedEntity = rootNamedEntity\n",
    "  #  else:\n",
    "   #     namedEntity = rootNamedEntity\n",
    "    return namedEntity"
   ]
  },
  {
   "cell_type": "code",
   "execution_count": 12,
   "metadata": {},
   "outputs": [],
   "source": [
    "sinhalaVariations = []\n",
    "tamilVariations = []"
   ]
  },
  {
   "cell_type": "code",
   "execution_count": 13,
   "metadata": {},
   "outputs": [],
   "source": [
    "for index, raw in dataFrame.iterrows():\n",
    "    sinhalaBuffer = [raw['Sinhala']]\n",
    "    tamilBuffer = [raw['Tamil']]\n",
    "    mixedBuffer = []\n",
    "    for tag in range(1, 13):\n",
    "        if(tag == 3 or tag == 6):\n",
    "            continue\n",
    "        sinhalaMorpology = addMorpologySinhala(raw['Sinhala'], tag)\n",
    "        tamilMorpology = addMorpologyTamil(raw['Tamil'], tag)\n",
    "   #     mixedBuffer.append(sinhalaMorpology)\n",
    "    #    mixedBuffer.append(tamilMorpology)\n",
    "        sinhalaBuffer.append(sinhalaMorpology)\n",
    "        tamilBuffer.append(tamilMorpology)\n",
    "    #print(sinhalaBuffer)\n",
    "    #print(tamilBuffer)\n",
    " #   mixedVariations\n",
    "    sinhalaVariations.extend(sinhalaBuffer)\n",
    "    tamilVariations.extend(tamilBuffer)"
   ]
  },
  {
   "cell_type": "code",
   "execution_count": 14,
   "metadata": {},
   "outputs": [
    {
     "name": "stdout",
     "output_type": "stream",
     "text": [
      "114730\n",
      "114730\n"
     ]
    }
   ],
   "source": [
    "print(len(sinhalaVariations))\n",
    "print(len(tamilVariations))"
   ]
  },
  {
   "cell_type": "code",
   "execution_count": 15,
   "metadata": {},
   "outputs": [],
   "source": [
    "sinhalaSeries = pd.Series(sinhalaVariations, name=\"Sinhala\")\n",
    "tamilSeries = pd.Series(tamilVariations, name=\"Tamil\")"
   ]
  },
  {
   "cell_type": "code",
   "execution_count": 16,
   "metadata": {},
   "outputs": [],
   "source": [
    "data = pd.DataFrame({'Sinhala':sinhalaSeries, 'Tamil':tamilSeries})"
   ]
  },
  {
   "cell_type": "code",
   "execution_count": 17,
   "metadata": {},
   "outputs": [
    {
     "data": {
      "text/html": [
       "<div>\n",
       "<style scoped>\n",
       "    .dataframe tbody tr th:only-of-type {\n",
       "        vertical-align: middle;\n",
       "    }\n",
       "\n",
       "    .dataframe tbody tr th {\n",
       "        vertical-align: top;\n",
       "    }\n",
       "\n",
       "    .dataframe thead th {\n",
       "        text-align: right;\n",
       "    }\n",
       "</style>\n",
       "<table border=\"1\" class=\"dataframe\">\n",
       "  <thead>\n",
       "    <tr style=\"text-align: right;\">\n",
       "      <th></th>\n",
       "      <th>Sinhala</th>\n",
       "      <th>Tamil</th>\n",
       "    </tr>\n",
       "  </thead>\n",
       "  <tbody>\n",
       "    <tr>\n",
       "      <th>0</th>\n",
       "      <td>හාමිදු</td>\n",
       "      <td>ஹாமிது</td>\n",
       "    </tr>\n",
       "    <tr>\n",
       "      <th>1</th>\n",
       "      <td>හාමිදුගේ</td>\n",
       "      <td>ஹாமிதுவின்</td>\n",
       "    </tr>\n",
       "    <tr>\n",
       "      <th>2</th>\n",
       "      <td>හාමිදුගෙන්</td>\n",
       "      <td>ஹாமிதுவிடமிருந்து</td>\n",
       "    </tr>\n",
       "    <tr>\n",
       "      <th>3</th>\n",
       "      <td>හාමිදුගේ</td>\n",
       "      <td>ஹாமிதுவினது</td>\n",
       "    </tr>\n",
       "    <tr>\n",
       "      <th>4</th>\n",
       "      <td>හාමිදු ළග</td>\n",
       "      <td>ஹாமிதுவிடம்</td>\n",
       "    </tr>\n",
       "  </tbody>\n",
       "</table>\n",
       "</div>"
      ],
      "text/plain": [
       "      Sinhala              Tamil\n",
       "0      හාමිදු             ஹாமிது\n",
       "1    හාමිදුගේ         ஹாமிதுவின்\n",
       "2  හාමිදුගෙන්  ஹாமிதுவிடமிருந்து\n",
       "3    හාමිදුගේ        ஹாமிதுவினது\n",
       "4   හාමිදු ළග        ஹாமிதுவிடம்"
      ]
     },
     "execution_count": 17,
     "metadata": {},
     "output_type": "execute_result"
    }
   ],
   "source": [
    "data.head()"
   ]
  },
  {
   "cell_type": "code",
   "execution_count": 18,
   "metadata": {},
   "outputs": [],
   "source": [
    "export_excel = data.to_excel('muslim_names_with_cases.xlsx', index = None, header=True)"
   ]
  },
  {
   "cell_type": "code",
   "execution_count": null,
   "metadata": {},
   "outputs": [],
   "source": []
  }
 ],
 "metadata": {
  "kernelspec": {
   "display_name": "Python 3",
   "language": "python",
   "name": "python3"
  },
  "language_info": {
   "codemirror_mode": {
    "name": "ipython",
    "version": 3
   },
   "file_extension": ".py",
   "mimetype": "text/x-python",
   "name": "python",
   "nbconvert_exporter": "python",
   "pygments_lexer": "ipython3",
   "version": "3.7.1"
  }
 },
 "nbformat": 4,
 "nbformat_minor": 2
}
